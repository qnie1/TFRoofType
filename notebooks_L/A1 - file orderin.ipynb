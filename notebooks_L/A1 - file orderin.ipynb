{
 "cells": [
  {
   "cell_type": "markdown",
   "metadata": {},
   "source": [
    "# Split in training and test folder"
   ]
  },
  {
   "cell_type": "code",
   "execution_count": 1,
   "metadata": {},
   "outputs": [],
   "source": [
    "import os\n",
    "from sklearn.model_selection import train_test_split\n",
    "from shutil import copyfile"
   ]
  },
  {
   "cell_type": "markdown",
   "metadata": {},
   "source": [
    "## Folder creation"
   ]
  },
  {
   "cell_type": "code",
   "execution_count": 3,
   "metadata": {},
   "outputs": [],
   "source": [
    "def safefoldercreation(name, path='.'):\n",
    "    try:\n",
    "        os.mkdir(os.path.join(path, name))\n",
    "        print(folder, 'created')\n",
    "    except:\n",
    "        print(folder, 'already existing')"
   ]
  },
  {
   "cell_type": "code",
   "execution_count": 4,
   "metadata": {},
   "outputs": [
    {
     "name": "stdout",
     "output_type": "stream",
     "text": [
      "test created\n",
      "train created\n"
     ]
    }
   ],
   "source": [
    "folderstructure = ['test', 'train']\n",
    "for folder in folderstructure:\n",
    "    safefoldercreation(folder)"
   ]
  },
  {
   "cell_type": "code",
   "execution_count": 5,
   "metadata": {},
   "outputs": [],
   "source": [
    "folderlist = ['Flat', 'Gable', 'GablewDormer', 'Hip', 'HipWDormer', 'Multiple', 'Unknown']"
   ]
  },
  {
   "cell_type": "code",
   "execution_count": 6,
   "metadata": {},
   "outputs": [
    {
     "name": "stdout",
     "output_type": "stream",
     "text": [
      "Flat - 202 pictures\n",
      "Gable - 201 pictures\n",
      "GablewDormer - 263 pictures\n",
      "Hip - 201 pictures\n",
      "HipWDormer - 199 pictures\n",
      "Multiple - 231 pictures\n",
      "Unknown - 324 pictures\n"
     ]
    }
   ],
   "source": [
    "pictureclass = {}\n",
    "for folder in folderlist:\n",
    "    pictureclass[folder] = [x for x in os.listdir(folder) if x.endswith('.jpg')]\n",
    "    print('{} - {} pictures'.format(folder, len(pictureclass[folder])))"
   ]
  },
  {
   "cell_type": "code",
   "execution_count": 7,
   "metadata": {},
   "outputs": [
    {
     "name": "stdout",
     "output_type": "stream",
     "text": [
      "Unknown trainsize= 217\n",
      "test created\n",
      "train created\n",
      "Gable trainsize= 134\n",
      "test created\n",
      "train created\n",
      "Hip trainsize= 134\n",
      "test created\n",
      "train created\n",
      "GablewDormer trainsize= 176\n",
      "test created\n",
      "train created\n",
      "Flat trainsize= 135\n",
      "test created\n",
      "train created\n",
      "Multiple trainsize= 154\n",
      "test created\n",
      "train created\n",
      "HipWDormer trainsize= 133\n",
      "test created\n",
      "train created\n"
     ]
    }
   ],
   "source": [
    "from sklearn.model_selection import train_test_split\n",
    "from shutil import copyfile\n",
    "\n",
    "for flowerclass in pictureclass.keys():\n",
    "    trainlist = train_test_split(pictureclass[flowerclass], test_size=0.33, random_state=42)[0]\n",
    "    print(flowerclass, 'trainsize=', len(trainlist))\n",
    "    \n",
    "    for folder in folderstructure:\n",
    "        safefoldercreation(flowerclass, folder)\n",
    "    \n",
    "    for file in pictureclass[flowerclass]:\n",
    "        if file in trainlist:\n",
    "            folderserie = 'train' \n",
    "        else:\n",
    "            folderserie = 'test'\n",
    "        copyfile(os.path.join(flowerclass, file), os.path.join(folderserie, flowerclass, file))"
   ]
  },
  {
   "cell_type": "code",
   "execution_count": null,
   "metadata": {},
   "outputs": [],
   "source": []
  },
  {
   "cell_type": "code",
   "execution_count": null,
   "metadata": {},
   "outputs": [],
   "source": []
  },
  {
   "cell_type": "code",
   "execution_count": null,
   "metadata": {},
   "outputs": [],
   "source": []
  },
  {
   "cell_type": "code",
   "execution_count": null,
   "metadata": {},
   "outputs": [],
   "source": []
  },
  {
   "cell_type": "code",
   "execution_count": null,
   "metadata": {},
   "outputs": [],
   "source": []
  }
 ],
 "metadata": {
  "kernelspec": {
   "display_name": "Python 3",
   "language": "python",
   "name": "python3"
  },
  "language_info": {
   "codemirror_mode": {
    "name": "ipython",
    "version": 3
   },
   "file_extension": ".py",
   "mimetype": "text/x-python",
   "name": "python",
   "nbconvert_exporter": "python",
   "pygments_lexer": "ipython3",
   "version": "3.5.6"
  }
 },
 "nbformat": 4,
 "nbformat_minor": 2
}
